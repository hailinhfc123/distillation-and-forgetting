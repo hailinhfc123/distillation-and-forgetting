{
 "cells": [
  {
   "cell_type": "code",
   "execution_count": 2,
   "id": "b000096c-df2b-4e57-a2c3-aea36de1f20c",
   "metadata": {},
   "outputs": [],
   "source": [
    "import os\n",
    "cache_dir = \"/scratches/dialfs/alta/hln35/.cache\"\n",
    "os.environ['TRANSFORMERS_CACHE'] = '/scratches/dialfs/alta/hln35/.cache'"
   ]
  },
  {
   "cell_type": "code",
   "execution_count": 3,
   "id": "4b72a828-17e0-4250-975a-54818ea1b5af",
   "metadata": {},
   "outputs": [],
   "source": [
    "model_small = \"google/flan-t5-small\""
   ]
  },
  {
   "cell_type": "code",
   "execution_count": 4,
   "id": "cae8529b-f7cc-4257-ac87-63306f38e06f",
   "metadata": {},
   "outputs": [],
   "source": [
    "from datasets import load_dataset\n",
    "\n",
    "data_points = load_dataset(\"ai2_arc\", \"ARC-Easy\", cache_dir=cache_dir)"
   ]
  },
  {
   "cell_type": "code",
   "execution_count": 5,
   "id": "5e774c2c-e10f-45fe-9a46-646d70ddb6e4",
   "metadata": {},
   "outputs": [
    {
     "data": {
      "text/plain": [
       "DatasetDict({\n",
       "    train: Dataset({\n",
       "        features: ['id', 'question', 'choices', 'answerKey'],\n",
       "        num_rows: 2251\n",
       "    })\n",
       "    test: Dataset({\n",
       "        features: ['id', 'question', 'choices', 'answerKey'],\n",
       "        num_rows: 2376\n",
       "    })\n",
       "    validation: Dataset({\n",
       "        features: ['id', 'question', 'choices', 'answerKey'],\n",
       "        num_rows: 570\n",
       "    })\n",
       "})"
      ]
     },
     "execution_count": 5,
     "metadata": {},
     "output_type": "execute_result"
    }
   ],
   "source": [
    "data_points"
   ]
  },
  {
   "cell_type": "code",
   "execution_count": 6,
   "id": "c67a9537-626d-413a-8dbf-6edb9c2240c6",
   "metadata": {},
   "outputs": [
    {
     "data": {
      "text/plain": [
       "{'id': 'Mercury_417466',\n",
       " 'question': 'Which statement best explains why photosynthesis is the foundation of most food webs?',\n",
       " 'choices': {'text': ['Sunlight is the source of energy for nearly all ecosystems.',\n",
       "   'Most ecosystems are found on land instead of in water.',\n",
       "   'Carbon dioxide is more available than other gases.',\n",
       "   'The producers in all ecosystems are plants.'],\n",
       "  'label': ['A', 'B', 'C', 'D']},\n",
       " 'answerKey': 'A'}"
      ]
     },
     "execution_count": 6,
     "metadata": {},
     "output_type": "execute_result"
    }
   ],
   "source": [
    "data_points[\"test\"][0]"
   ]
  },
  {
   "cell_type": "code",
   "execution_count": 23,
   "id": "a7eba0e3-62ea-471b-8aee-508482979ae5",
   "metadata": {},
   "outputs": [
    {
     "data": {
      "application/vnd.jupyter.widget-view+json": {
       "model_id": "27888cd49d6446229c5af3d499f5b533",
       "version_major": 2,
       "version_minor": 0
      },
      "text/plain": [
       "Filter:   0%|          | 0/2251 [00:00<?, ? examples/s]"
      ]
     },
     "metadata": {},
     "output_type": "display_data"
    },
    {
     "data": {
      "application/vnd.jupyter.widget-view+json": {
       "model_id": "bf5613a243ab46c7afb7fc6062c8926e",
       "version_major": 2,
       "version_minor": 0
      },
      "text/plain": [
       "Filter:   0%|          | 0/2376 [00:00<?, ? examples/s]"
      ]
     },
     "metadata": {},
     "output_type": "display_data"
    },
    {
     "data": {
      "application/vnd.jupyter.widget-view+json": {
       "model_id": "d2c0e831d08148fc8071dac06c19dd34",
       "version_major": 2,
       "version_minor": 0
      },
      "text/plain": [
       "Filter:   0%|          | 0/570 [00:00<?, ? examples/s]"
      ]
     },
     "metadata": {},
     "output_type": "display_data"
    }
   ],
   "source": [
    "data_points = data_points.filter(lambda x: len(x['choices']['label']) == 4)"
   ]
  },
  {
   "cell_type": "code",
   "execution_count": 24,
   "id": "755e5996-210a-4ef0-b5b1-85999ca2874f",
   "metadata": {},
   "outputs": [
    {
     "data": {
      "text/plain": [
       "DatasetDict({\n",
       "    train: Dataset({\n",
       "        features: ['id', 'question', 'choices', 'answerKey'],\n",
       "        num_rows: 2241\n",
       "    })\n",
       "    test: Dataset({\n",
       "        features: ['id', 'question', 'choices', 'answerKey'],\n",
       "        num_rows: 2365\n",
       "    })\n",
       "    validation: Dataset({\n",
       "        features: ['id', 'question', 'choices', 'answerKey'],\n",
       "        num_rows: 567\n",
       "    })\n",
       "})"
      ]
     },
     "execution_count": 24,
     "metadata": {},
     "output_type": "execute_result"
    }
   ],
   "source": [
    "data_points"
   ]
  },
  {
   "cell_type": "code",
   "execution_count": 28,
   "id": "584d2780-52c8-4b70-bb30-649ef27f4658",
   "metadata": {},
   "outputs": [],
   "source": [
    "index_to_ans = {0: \"A\", 1: \"B\", 2: \"C\", 3: \"D\"}\n",
    "ans_to_index = {\"A\" : \"0\", \"B\" : \"1\", \"C\" : \"2\", \"D\": \"3\"}\n",
    "ans_id_dict = {71: \"A\", 272: \"B\", 205: \"C\", 309: \"D\"}"
   ]
  },
  {
   "cell_type": "code",
   "execution_count": 25,
   "id": "643fd143-bed0-4dc2-8e0e-4dcbdb7203cb",
   "metadata": {},
   "outputs": [],
   "source": [
    "prefix = \"context: for each questions there are a few choices of answer. answer this question by choosing the best choice either A, B, C, or D: \"\n",
    "\n",
    "\n",
    "def preprocess_function(data_points):\n",
    "    inputs = []\n",
    "    for i in range(len(data_points[\"question\"])):\n",
    "        if len(data_points[\"choices\"][i][\"label\"]) != 4:\n",
    "            continue\n",
    "        labels = [index_to_ans[int(t)-1] if t.isdigit() else t for t in data_points[\"choices\"][i][\"label\"]]\n",
    "        q = data_points[\"question\"][i]\n",
    "        choices = \"\"\n",
    "        choice = \"\"\n",
    "        for t in range(len(labels)):\n",
    "            choices += labels[t] + \" \" + data_points[\"choices\"][i][\"text\"][t] + \". \"\n",
    "            \n",
    "        text = prefix + q + \"Choices: \" + choices\n",
    "        inputs.append(text)\n",
    "    model_inputs = tokenizer(inputs, truncation=True)\n",
    "    \n",
    "    return model_inputs"
   ]
  },
  {
   "cell_type": "code",
   "execution_count": 7,
   "id": "e3bccc6f-6a68-425e-9a8d-8946eda42e74",
   "metadata": {},
   "outputs": [],
   "source": []
  },
  {
   "cell_type": "code",
   "execution_count": 9,
   "id": "3550aadd-fef1-4ba0-aa3c-387d4535966e",
   "metadata": {},
   "outputs": [
    {
     "name": "stderr",
     "output_type": "stream",
     "text": [
      "Some weights of T5ForQuestionAnswering were not initialized from the model checkpoint at google/flan-t5-small and are newly initialized: ['qa_outputs.bias', 'qa_outputs.weight']\n",
      "You should probably TRAIN this model on a down-stream task to be able to use it for predictions and inference.\n"
     ]
    }
   ],
   "source": [
    "from transformers import AutoTokenizer\n",
    "import torch\n",
    "from transformers import AutoModelForQuestionAnswering, AutoModel, AutoModelForSeq2SeqLM\n",
    "\n",
    "tokenizer = AutoTokenizer.from_pretrained(model_small)\n",
    "model = AutoModelForSeq2SeqLM.from_pretrained(model_small)\n",
    "model1 = AutoModel.from_pretrained(model_small)\n",
    "model2 = AutoModelForQuestionAnswering.from_pretrained(model_small)\n",
    "\n"
   ]
  },
  {
   "cell_type": "code",
   "execution_count": 32,
   "id": "72f0e44f-4187-4437-9425-d5d5c641fc7d",
   "metadata": {},
   "outputs": [],
   "source": [
    "import json, re\n",
    "import numpy as np"
   ]
  },
  {
   "cell_type": "code",
   "execution_count": 26,
   "id": "61681c56-29cc-4ef7-a762-19a5d2e5353e",
   "metadata": {},
   "outputs": [
    {
     "data": {
      "application/vnd.jupyter.widget-view+json": {
       "model_id": "19fd0663341e402da639b97ecdd53f60",
       "version_major": 2,
       "version_minor": 0
      },
      "text/plain": [
       "Map:   0%|          | 0/2241 [00:00<?, ? examples/s]"
      ]
     },
     "metadata": {},
     "output_type": "display_data"
    },
    {
     "data": {
      "application/vnd.jupyter.widget-view+json": {
       "model_id": "9bac5187b981458eadaf8783590e2540",
       "version_major": 2,
       "version_minor": 0
      },
      "text/plain": [
       "Map:   0%|          | 0/2365 [00:00<?, ? examples/s]"
      ]
     },
     "metadata": {},
     "output_type": "display_data"
    },
    {
     "data": {
      "application/vnd.jupyter.widget-view+json": {
       "model_id": "1f3826076af3441b8f1c734c11cfcf70",
       "version_major": 2,
       "version_minor": 0
      },
      "text/plain": [
       "Map:   0%|          | 0/567 [00:00<?, ? examples/s]"
      ]
     },
     "metadata": {},
     "output_type": "display_data"
    }
   ],
   "source": [
    "tokenized_datasets = data_points.map(preprocess_function, batched=True)"
   ]
  },
  {
   "cell_type": "code",
   "execution_count": 33,
   "id": "d554c20b-d89e-4890-97b8-28eca69dcda4",
   "metadata": {},
   "outputs": [],
   "source": [
    "test_input_ids = tokenized_datasets[\"test\"][\"input_ids\"]\n",
    "model_outputs = []\n",
    "results = {}\n",
    "for i in range(0, len(test_input_ids)):\n",
    "        test_tensor = torch.tensor([test_input_ids[i]])\n",
    "        preds = model(input_ids=test_tensor, decoder_input_ids=torch.tensor([[model.config.decoder_start_token_id]]))      \n",
    "        preds_prob = []\n",
    "        for t in ans_id_dict.keys():\n",
    "            preds_prob.append(preds.logits[...,t][0][0].item())\n",
    "            \n",
    "        model_outputs.append(index_to_ans[np.argmax(preds_prob)])         \n",
    "\n",
    "# with open(\"QA_large_model_probability_output.txt\", \"w\") as fp:\n",
    "#     json.dump(large_model_outputs, fp)"
   ]
  },
  {
   "cell_type": "code",
   "execution_count": 34,
   "id": "e6b6009a-a831-4329-a8b8-5d48df40428d",
   "metadata": {},
   "outputs": [
    {
     "data": {
      "text/plain": [
       "749"
      ]
     },
     "execution_count": 34,
     "metadata": {},
     "output_type": "execute_result"
    }
   ],
   "source": [
    "labels = tokenized_datasets[\"test\"]['answerKey']\n",
    "\n",
    "result = 0\n",
    "for i in range(min(len(model_outputs), len(labels))):\n",
    "    if model_outputs[i] == labels[i] or ans_to_index[model_outputs[i]] == labels[i]:\n",
    "        result += 1\n",
    "result"
   ]
  },
  {
   "cell_type": "code",
   "execution_count": 36,
   "id": "38d9a89d-e2db-4a56-a4ab-18ef6a9f637b",
   "metadata": {},
   "outputs": [
    {
     "data": {
      "text/plain": [
       "{'A', 'B', 'C', 'D'}"
      ]
     },
     "execution_count": 36,
     "metadata": {},
     "output_type": "execute_result"
    }
   ],
   "source": [
    "model_output_set = set(model_outputs)\n",
    "model_output_set"
   ]
  },
  {
   "cell_type": "code",
   "execution_count": 38,
   "id": "f913179d-8319-492c-8e60-c24072bc1e59",
   "metadata": {},
   "outputs": [
    {
     "name": "stdout",
     "output_type": "stream",
     "text": [
      "Total points are 2365. Number of correct answers is 749.\n"
     ]
    }
   ],
   "source": [
    "print(f\"Total points are {len(data_points['test'])}. Number of correct answers is {result}.\")"
   ]
  },
  {
   "cell_type": "code",
   "execution_count": 39,
   "id": "cebc337a-e765-42b7-aeca-a0f71fbe710e",
   "metadata": {},
   "outputs": [],
   "source": [
    "model_large = \"google/flan-t5-large\"\n",
    "tokenizer_large = AutoTokenizer.from_pretrained(model_large)\n",
    "model_large = AutoModelForSeq2SeqLM.from_pretrained(model_large)"
   ]
  },
  {
   "cell_type": "code",
   "execution_count": 40,
   "id": "d9e48f2f-5e3f-4c93-91f1-d206c1e76e52",
   "metadata": {},
   "outputs": [
    {
     "data": {
      "text/plain": [
       "1697"
      ]
     },
     "execution_count": 40,
     "metadata": {},
     "output_type": "execute_result"
    }
   ],
   "source": [
    "model_large_outputs = []\n",
    "for i in range(0, len(test_input_ids)):\n",
    "        test_tensor = torch.tensor([test_input_ids[i]])\n",
    "        preds = model_large(input_ids=test_tensor, decoder_input_ids=torch.tensor([[model.config.decoder_start_token_id]]))      \n",
    "        preds_prob = []\n",
    "        for t in ans_id_dict.keys():\n",
    "            preds_prob.append(preds.logits[...,t][0][0].item())\n",
    "            \n",
    "        model_large_outputs.append(index_to_ans[np.argmax(preds_prob)])    \n",
    "\n",
    "labels = tokenized_datasets[\"test\"]['answerKey']\n",
    "\n",
    "result_large = 0\n",
    "for i in range(min(len(model_large_outputs), len(labels))):\n",
    "    if model_large_outputs[i] == labels[i] or ans_to_index[model_large_outputs[i]] == labels[i]:\n",
    "        result_large += 1\n",
    "result_large"
   ]
  },
  {
   "cell_type": "code",
   "execution_count": 41,
   "id": "3c17f68a-db97-41dc-85fd-9a12600a7fb7",
   "metadata": {},
   "outputs": [
    {
     "name": "stdout",
     "output_type": "stream",
     "text": [
      "Total points are 2365. Number of correct answers is 1697.\n"
     ]
    }
   ],
   "source": [
    "print(f\"Total points are {len(data_points['test'])}. Number of correct answers is {result_large}.\")"
   ]
  },
  {
   "cell_type": "code",
   "execution_count": null,
   "id": "75cab367-8302-4b73-bf82-91784e24b9b1",
   "metadata": {},
   "outputs": [],
   "source": []
  },
  {
   "cell_type": "code",
   "execution_count": null,
   "id": "e78ff592-75ec-4d3a-acd8-71f7ff1ed6c7",
   "metadata": {},
   "outputs": [],
   "source": [
    "\n"
   ]
  },
  {
   "cell_type": "code",
   "execution_count": null,
   "id": "549da196-33d2-4d46-a320-6c6656072c4d",
   "metadata": {},
   "outputs": [],
   "source": []
  },
  {
   "cell_type": "code",
   "execution_count": null,
   "id": "aec93f36-c877-4238-a49a-2e45517c60c0",
   "metadata": {},
   "outputs": [],
   "source": []
  }
 ],
 "metadata": {
  "kernelspec": {
   "display_name": "Python 3 (ipykernel)",
   "language": "python",
   "name": "python3"
  },
  "language_info": {
   "codemirror_mode": {
    "name": "ipython",
    "version": 3
   },
   "file_extension": ".py",
   "mimetype": "text/x-python",
   "name": "python",
   "nbconvert_exporter": "python",
   "pygments_lexer": "ipython3",
   "version": "3.9.18"
  }
 },
 "nbformat": 4,
 "nbformat_minor": 5
}
